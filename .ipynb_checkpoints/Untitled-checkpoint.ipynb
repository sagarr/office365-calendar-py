{
 "cells": [
  {
   "cell_type": "code",
   "execution_count": 1,
   "metadata": {},
   "outputs": [],
   "source": [
    "client_id = 'pyapi'\n",
    "client_secret = 'ycnKZI215?jghrJSPL12_%%'\n",
    "\n",
    "Permision  = Calendars.Read\n",
    "# manager client\n",
    "https://apps.dev.microsoft.com/#/application/42e2dba6-d417-48d3-8d36-1b4af3ae6e56\n",
    "\n",
    "# graph api ref\n",
    "https://developer.microsoft.com/en-us/graph/docs/api-reference\n",
    "    \n",
    "# reference \n",
    "https://github.com/OfficeDev/outlook-dev-docs/blob/master/docs/rest/python-tutorial.md\n",
    "    \n",
    "# get code \n",
    "https://login.microsoftonline.com/common/oauth2/v2.0/authorize?scope=openid+Calendars.Read&response_type=code&client_id=42e2dba6-d417-48d3-8d36-1b4af3ae6e56&redirect_uri=http%3A%2F%2Flocalhost%3A8000%2F"
   ]
  },
  {
   "cell_type": "code",
   "execution_count": null,
   "metadata": {},
   "outputs": [],
   "source": [
    "import requests"
   ]
  },
  {
   "cell_type": "code",
   "execution_count": 17,
   "metadata": {},
   "outputs": [],
   "source": [
    "authority = 'https://login.microsoftonline.com'\n",
    "\n",
    "# The authorize URL that initiates the OAuth2 client credential flow for admin consent\n",
    "authorize_url = '{0}{1}'.format(authority, '/common/oauth2/v2.0/authorize?{0}')\n",
    "\n",
    "# The token issuing endpoint\n",
    "token_url = '{0}{1}'.format(authority, '/common/oauth2/v2.0/token')\n",
    "\n",
    "scopes = [ 'openid',\n",
    "           'Calendars.Read' ]\n",
    "\n",
    "client_id = '42e2dba6-d417-48d3-8d36-1b4af3ae6e56'\n",
    "client_secret = 'ycnKZI215?jghrJSPL12_%%'"
   ]
  },
  {
   "cell_type": "code",
   "execution_count": 18,
   "metadata": {},
   "outputs": [],
   "source": [
    "def get_token_from_code(auth_code, redirect_uri):\n",
    "  # Build the post form for the token request\n",
    "  post_data = { 'grant_type': 'authorization_code',\n",
    "                'code': auth_code,\n",
    "                'scope': ' '.join(str(i) for i in scopes),\n",
    "                'client_id': client_id,\n",
    "                'client_secret': client_secret\n",
    "              }\n",
    "              \n",
    "  r = requests.post(token_url, data = post_data)\n",
    "  \n",
    "  try:\n",
    "    return r.json()\n",
    "  except:\n",
    "    return 'Error retrieving token: {0} - {1}'.format(r.status_code, r.text)"
   ]
  },
  {
   "cell_type": "code",
   "execution_count": 22,
   "metadata": {},
   "outputs": [
    {
     "data": {
      "text/plain": [
       "'eyJ0eXAiOiJKV1QiLCJub25jZSI6IkFRQUJBQUFBQUFEWDhHQ2k2SnM2U0s4MlRzRDJQYjdyNE1NalV3eWJmWmRoRVJBeHROdk5DR3pjYnBQQVNydXMzMEJIejExQmstMHVtYTgwSUk2eXVxUkhZSGgtMlpKeVVqR3BFdFdYV3o3VzJmcDhKMy1Fa3lBQSIsImFsZyI6IlJTMjU2IiwieDV0IjoiaUJqTDFSY3F6aGl5NGZweEl4ZFpxb2hNMllrIiwia2lkIjoiaUJqTDFSY3F6aGl5NGZweEl4ZFpxb2hNMllrIn0.eyJhdWQiOiJodHRwczovL2dyYXBoLm1pY3Jvc29mdC5jb20iLCJpc3MiOiJodHRwczovL3N0cy53aW5kb3dzLm5ldC8zNzRmODAyNi03YjU0LTRhM2EtYjg3ZC0zMjhmYTI2ZWMxMGQvIiwiaWF0IjoxNTI2NzE5NzExLCJuYmYiOjE1MjY3MTk3MTEsImV4cCI6MTUyNjcyMzYxMSwiYWNyIjoiMSIsImFpbyI6IkFWUUFxLzhIQUFBQWNGcllXdG9Uc2dySjBZZi92U1FFaFRjUVZxVXdGRnJCdXZtdjRESDhGMFZrdmFPLzZRM0EvUmpUUDZUelJrckpUWkhuSXAxZW81WnV6Y3ZhZERqRUc4WGNHWFczdE1FNjRMQnJyQWY0VytnPSIsImFtciI6WyJwd2QiLCJtZmEiXSwiYXBwX2Rpc3BsYXluYW1lIjoicHlhcGkiLCJhcHBpZCI6IjQyZTJkYmE2LWQ0MTctNDhkMy04ZDM2LTFiNGFmM2FlNmU1NiIsImFwcGlkYWNyIjoiMSIsImZhbWlseV9uYW1lIjoiUm9oYW5rYXIiLCJnaXZlbl9uYW1lIjoiU2FnYXIiLCJpcGFkZHIiOiIxMTYuNzQuMjIzLjE1NSIsIm5hbWUiOiJTYWdhciBSb2hhbmthciIsIm9pZCI6ImRiMjkxYzA4LWViZTItNDVhZS05NjYxLTU4OTdhZjJmNWYxOCIsIm9ucHJlbV9zaWQiOiJTLTEtNS0yMS0yMDIzODczNDUtNDIwMTMyNDI0NS0zNzA5NjcyNzE0LTE5MjU5MCIsInBsYXRmIjoiMTQiLCJwdWlkIjoiMTAwMzNGRkY4RUQ3NURFMiIsInNjcCI6IkNhbGVuZGFycy5SZWFkIiwic2lnbmluX3N0YXRlIjpbImttc2kiXSwic3ViIjoiRXp3MDhidkdKUl9FdVBNQmlUS1JEam9jUGt6dnJiTmpmN2o4ZDhqYTNEUSIsInRpZCI6IjM3NGY4MDI2LTdiNTQtNGEzYS1iODdkLTMyOGZhMjZlYzEwZCIsInVuaXF1ZV9uYW1lIjoiU2FnYXIuUm9oYW5rYXJAdG9tdG9tLmNvbSIsInVwbiI6IlNhZ2FyLlJvaGFua2FyQHRvbXRvbS5jb20iLCJ1dGkiOiJMVGxyWmlabWlrV1pHMlZybHpBRUFBIiwidmVyIjoiMS4wIn0.EJoScP4YvzIlYOWwlZHR3hIwrxP6w_d5QA2VU32eI4YTm0xyuDiS5bAZxosyAvA0vzPiyvdh7ixziofs5sRRNi7QVJi_gbFR0-w8i9cn4yQlAKM5-J5CI3toIWpF1hCu4G4ujE_7Do-HCvCgW5mAuipjshr4Quq2oklMvCNGAQ8da_v0I8gRr0W-FnY5VXdycDCjrpBrBe05qjvKXTLsALeGJSuh0rY3CduqZmfiOUanpi6WHSommIIOeO9bkcx_AEohm010vD3zHuU9oyAXaQe71KIi9UocNSB3ZJZAT0FQAQz_6xMvx7huDVi6pxipIC_vOBS3zJAaFsHx4_AsHg'"
      ]
     },
     "execution_count": 22,
     "metadata": {},
     "output_type": "execute_result"
    }
   ],
   "source": [
    "code = 'OAQABAAIAAADX8GCi6Js6SK82TsD2Pb7rW_7AgEcFMkyhp8V4EzgwAtbGgMSS7GfA9PkAed9BGvhqVB_5grE0GCQj-moMJ4b7jtgSvQDeKwYQtvdqWvt0K5-ap8Udx8IHKCwdthNHtB8GrfETK-GpUsAQFN2eINU2wLK1KGrCHjdooi-b7RkZoRwcXaTjCtDEmOihTFgxi4OBjP3Nut5OYOXPRystOFQQTlszSJr0b3kJMYOD_h5Oon0V867b5sAWbiVvIPf9rIndT9nrNSiwDMl07b_JB0t2QPnjYxT3WMAROq0jdMKorKNYF4g-WJaXRL2eQzZYhV38mI8Tvtu01ZiVbhdOq_0hS8cLp-UmHpCpK2fWgBMm3OcluMhUAOxKHLWtOL0yUqibMydKoav19WvmbVsLv6XG5KvT33XlZPudwwQFOtmdzCXE4YMEpDSqOWVsSevpx-HjCY-zLB5BcFVAnyiBGuaRzvvP1xEo-3c1rc9k201IcTWX4KK0DzN9tnNFDNUCc6wqUSOGc5wL4xWVAwcFvh5isyEaUq1aA5Mg0LxPl6CrQbkSM-fuPRQe6qLG8gnspSdrFjL1yWcgsgVW5HukQU7EeQr35bNwF-yBcTwupDPNUGaCn8nc75c2BDeZW8b-kDIx5XBBAKX0bdS7CCp6zFWrqeanUojiddOcEMb5LT7k0PEPwatfxDd1R5Zy293UWFkgAA'\n",
    "access_token = get_token_from_code(code, '')['access_token']\n",
    "access_token"
   ]
  },
  {
   "cell_type": "code",
   "execution_count": 23,
   "metadata": {},
   "outputs": [],
   "source": [
    "import requests\n",
    "import uuid\n",
    "import json\n",
    "\n",
    "graph_endpoint = 'https://graph.microsoft.com/v1.0{0}'\n",
    "\n",
    "# Generic API Sending\n",
    "def make_api_call(method, url, token, payload = None, parameters = None):\n",
    "  # Send these headers with all API calls\n",
    "  headers = { 'User-Agent' : 'python_tutorial/1.0',\n",
    "              'Authorization' : 'Bearer {0}'.format(token),\n",
    "              'Accept' : 'application/json' }\n",
    "              \n",
    "  # Use these headers to instrument calls. Makes it easier\n",
    "  # to correlate requests and responses in case of problems\n",
    "  # and is a recommended best practice.\n",
    "  request_id = str(uuid.uuid4())\n",
    "  instrumentation = { 'client-request-id' : request_id,\n",
    "                      'return-client-request-id' : 'true' }\n",
    "                      \n",
    "  headers.update(instrumentation)\n",
    "  \n",
    "  response = None\n",
    "  \n",
    "  if (method.upper() == 'GET'):\n",
    "      response = requests.get(url, headers = headers, params = parameters)\n",
    "  elif (method.upper() == 'DELETE'):\n",
    "      response = requests.delete(url, headers = headers, params = parameters)\n",
    "  elif (method.upper() == 'PATCH'):\n",
    "      headers.update({ 'Content-Type' : 'application/json' })\n",
    "      response = requests.patch(url, headers = headers, data = json.dumps(payload), params = parameters)\n",
    "  elif (method.upper() == 'POST'):\n",
    "      headers.update({ 'Content-Type' : 'application/json' })\n",
    "      response = requests.post(url, headers = headers, data = json.dumps(payload), params = parameters)\n",
    "      \n",
    "  return response"
   ]
  },
  {
   "cell_type": "code",
   "execution_count": 33,
   "metadata": {
    "scrolled": false
   },
   "outputs": [
    {
     "name": "stdout",
     "output_type": "stream",
     "text": [
      "value\n",
      "@odata.nextLink\n",
      "@odata.context\n"
     ]
    },
    {
     "data": {
      "text/plain": [
       "'Brown-Bag Session: Automated Geometry Creation of Airport Runways with Machine Learning'"
      ]
     },
     "execution_count": 33,
     "metadata": {},
     "output_type": "execute_result"
    }
   ],
   "source": [
    "def get_cal(access_token):\n",
    "  get_me_url = graph_endpoint.format('/me/calendar/events')\n",
    "\n",
    "  # Use OData query parameters to control the results\n",
    "  #  - Only return the displayName and mail fields\n",
    "  # query_parameters = {'$select': 'displayName,mail'}\n",
    "  query_parameters = {}\n",
    "\n",
    "  r = make_api_call('GET', get_me_url, access_token, \"\", parameters = query_parameters)\n",
    "\n",
    "  if (r.status_code == requests.codes.ok):\n",
    "    return r.json()\n",
    "  else:\n",
    "    return \"{0}: {1}\".format(r.status_code, r.text)\n",
    "\n",
    "events = get_cal(access_token)\n",
    "    \n",
    "events['value'][0]['subject']"
   ]
  },
  {
   "cell_type": "code",
   "execution_count": null,
   "metadata": {},
   "outputs": [],
   "source": []
  }
 ],
 "metadata": {
  "kernelspec": {
   "display_name": "Python 3",
   "language": "python",
   "name": "python3"
  },
  "language_info": {
   "codemirror_mode": {
    "name": "ipython",
    "version": 3
   },
   "file_extension": ".py",
   "mimetype": "text/x-python",
   "name": "python",
   "nbconvert_exporter": "python",
   "pygments_lexer": "ipython3",
   "version": "3.5.2"
  }
 },
 "nbformat": 4,
 "nbformat_minor": 2
}
